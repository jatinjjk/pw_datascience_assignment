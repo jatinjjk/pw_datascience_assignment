{
 "cells": [
  {
   "cell_type": "markdown",
   "id": "1f77dca8-e92b-4724-8458-08aacb77d878",
   "metadata": {},
   "source": [
    "Answer-1"
   ]
  },
  {
   "cell_type": "markdown",
   "id": "3641a2e7-0c9f-49a4-9ebe-6a89d53cc632",
   "metadata": {},
   "source": [
    "Both for and while loops are used for iterating over a set of conditions repeatedly, but they are used in different situations."
   ]
  },
  {
   "cell_type": "markdown",
   "id": "24732108-3ea0-45ae-8dbf-cafbe898a667",
   "metadata": {},
   "source": [
    "Basically for loop uses in:\n",
    "\n",
    "*When you need to iterate over a known sequence, such as a list or string.\n",
    "*When you need to perform a fixed number of iterations.\n",
    "*When you need to execute a block of code for each element in a sequence."
   ]
  },
  {
   "cell_type": "code",
   "execution_count": 1,
   "id": "4b2eee7f-d00c-41c8-97f4-6cf48f42ecd2",
   "metadata": {},
   "outputs": [
    {
     "name": "stdout",
     "output_type": "stream",
     "text": [
      "1\n",
      "2\n",
      "3\n",
      "4\n",
      "5\n"
     ]
    }
   ],
   "source": [
    "numbers = [1, 2, 3, 4, 5]\n",
    "\n",
    "for num in numbers:\n",
    "    print(num)"
   ]
  },
  {
   "cell_type": "markdown",
   "id": "e7a65753-37eb-4396-a4e4-2464a61f401f",
   "metadata": {},
   "source": [
    "Basically while loop uses in:\n",
    "\n",
    "*When you need to repeat a block of code until a certain condition is met.\n",
    "*When you don't know in advance how many iterations you need to perform.\n",
    "*When you need to perform an operation as long as a certain condition is true."
   ]
  },
  {
   "cell_type": "code",
   "execution_count": 2,
   "id": "59dc613c-851c-4ae3-a401-0e9cf578b61b",
   "metadata": {},
   "outputs": [
    {
     "name": "stdout",
     "output_type": "stream",
     "text": [
      "1\n",
      "2\n",
      "4\n",
      "8\n",
      "16\n",
      "32\n",
      "64\n"
     ]
    }
   ],
   "source": [
    "num = 1\n",
    "limit = 100\n",
    "\n",
    "while num <= limit:\n",
    "    print(num)\n",
    "    num = num* 2"
   ]
  },
  {
   "cell_type": "code",
   "execution_count": null,
   "id": "363ea190-0cf2-4423-b8fe-64aa2e12aefe",
   "metadata": {},
   "outputs": [],
   "source": []
  },
  {
   "cell_type": "markdown",
   "id": "46f23573-045a-4b12-97c6-1cfff0d3ced8",
   "metadata": {},
   "source": [
    "Answer-2"
   ]
  },
  {
   "cell_type": "code",
   "execution_count": 3,
   "id": "794ac779-1e83-4435-bac4-d05ef5931616",
   "metadata": {},
   "outputs": [],
   "source": [
    "l =[1,2,3,4,5,6,7,8,9,10]"
   ]
  },
  {
   "cell_type": "raw",
   "id": "5a215a48-7f71-4593-bd20-c5fee0ff3978",
   "metadata": {},
   "source": [
    "#sum of first 10 natural number using for loop "
   ]
  },
  {
   "cell_type": "code",
   "execution_count": 5,
   "id": "35d6aa13-b7fd-4152-8e64-8b3e957fb72a",
   "metadata": {},
   "outputs": [
    {
     "name": "stdout",
     "output_type": "stream",
     "text": [
      "55\n"
     ]
    }
   ],
   "source": [
    "result =0\n",
    "for i in l:\n",
    "    result= result+i\n",
    "print (result)"
   ]
  },
  {
   "cell_type": "raw",
   "id": "8ca414c7-3128-4e8c-ba57-c91718103c07",
   "metadata": {},
   "source": [
    "#product of first 10 natural number using for loop "
   ]
  },
  {
   "cell_type": "code",
   "execution_count": 7,
   "id": "8ee9408d-4420-4175-85f6-29a57c27710f",
   "metadata": {},
   "outputs": [
    {
     "name": "stdout",
     "output_type": "stream",
     "text": [
      "3628800\n"
     ]
    }
   ],
   "source": [
    "result =1\n",
    "for i in l:\n",
    "    result= result*i\n",
    "print (result)"
   ]
  },
  {
   "cell_type": "raw",
   "id": "b0483813-68bc-43b9-a21c-b1cfff95d0c8",
   "metadata": {},
   "source": [
    "#sum of first 10 natural number using while loop "
   ]
  },
  {
   "cell_type": "code",
   "execution_count": 9,
   "id": "d7f7ea16-74df-4d0b-ab72-5e05563a3ddd",
   "metadata": {},
   "outputs": [
    {
     "data": {
      "text/plain": [
       "55"
      ]
     },
     "execution_count": 9,
     "metadata": {},
     "output_type": "execute_result"
    }
   ],
   "source": [
    "number = 10\n",
    "starting_point =0\n",
    "counter =1\n",
    "while counter<=number:\n",
    "    starting_point= starting_point + counter\n",
    "    counter =counter +1\n",
    "starting_point"
   ]
  },
  {
   "cell_type": "raw",
   "id": "75a04b0a-e725-4a88-8a71-6384d1040221",
   "metadata": {},
   "source": [
    "#product of first 10 natural number using while loop"
   ]
  },
  {
   "cell_type": "code",
   "execution_count": 11,
   "id": "507be59a-0c22-4125-9ce5-986e49488b9e",
   "metadata": {},
   "outputs": [
    {
     "name": "stdin",
     "output_type": "stream",
     "text": [
      "enter your number 10\n"
     ]
    },
    {
     "data": {
      "text/plain": [
       "3628800"
      ]
     },
     "execution_count": 11,
     "metadata": {},
     "output_type": "execute_result"
    }
   ],
   "source": [
    "number = int(input(\"enter your number\"))\n",
    "multiple =1\n",
    "while number>0:\n",
    "             multiple =multiple * number\n",
    "             number = number -1\n",
    "multiple"
   ]
  },
  {
   "cell_type": "markdown",
   "id": "6b792c7e-7232-461a-a33a-03e0b1cc4cca",
   "metadata": {},
   "source": [
    "Answer- 3"
   ]
  },
  {
   "cell_type": "code",
   "execution_count": 12,
   "id": "704a2c8d-bbb2-4324-b0fa-017e0537b148",
   "metadata": {},
   "outputs": [
    {
     "name": "stdin",
     "output_type": "stream",
     "text": [
      "enter your electricity unit 310\n"
     ]
    },
    {
     "name": "stdout",
     "output_type": "stream",
     "text": [
      "Total electricity bill = 2250.0\n"
     ]
    }
   ],
   "source": [
    "unit = int(input(\"enter your electricity unit\"))\n",
    "\n",
    "if unit<=100:\n",
    "    print(\"Total electricity bill =\", unit*4.5)\n",
    "elif unit>100 and unit<=200:\n",
    "    print(\"Total electricity bill =\", 100*4.5 +((unit-100)*6))\n",
    "elif unit>200 and unit<=300:\n",
    "    print(\"Total electricity bill =\", 100*4.5+100*6 +((unit-200)*10))\n",
    "else:\n",
    "    print(\"Total electricity bill =\", 100*4.5+100*6+100*10+((unit-300)*20))"
   ]
  },
  {
   "cell_type": "code",
   "execution_count": null,
   "id": "dc72c08c-0d81-4803-8ec2-ccfc067615c0",
   "metadata": {},
   "outputs": [],
   "source": []
  },
  {
   "cell_type": "markdown",
   "id": "5840b2fa-85a7-4eb6-86ce-34a22f697f40",
   "metadata": {},
   "source": [
    "Answer-4"
   ]
  },
  {
   "cell_type": "code",
   "execution_count": 13,
   "id": "cceb447b-de81-4a35-aefb-67861a02b453",
   "metadata": {},
   "outputs": [],
   "source": [
    "n=list(range(1,101))"
   ]
  },
  {
   "cell_type": "raw",
   "id": "2ebc06fb-ce53-4667-ae79-5d7858da8aeb",
   "metadata": {},
   "source": [
    "#using for loop"
   ]
  },
  {
   "cell_type": "code",
   "execution_count": 15,
   "id": "bc34819c-1c90-418e-9581-4fa3a6cca123",
   "metadata": {},
   "outputs": [
    {
     "name": "stdout",
     "output_type": "stream",
     "text": [
      "[2, 4, 5, 6, 8, 10, 12, 14, 15, 16, 18, 20, 22, 24, 25, 26, 28, 30, 32, 34, 35, 36, 38, 40, 42, 44, 45, 46, 48, 50, 52, 54, 55, 56, 58, 60, 62, 64, 65, 66, 68, 70, 72, 74, 75, 76, 78, 80, 82, 84, 85, 86, 88, 90, 92, 94, 95, 96, 98, 100]\n"
     ]
    }
   ],
   "source": [
    "result=[]\n",
    "for i in n:\n",
    "    cube=i**3\n",
    "    if cube%4==0 or cube%5==0:\n",
    "        result.append(i)\n",
    "print(result)"
   ]
  },
  {
   "cell_type": "raw",
   "id": "2e19d0a2-ab8f-4ea0-abf6-99cb37dcd8b1",
   "metadata": {},
   "source": [
    "#using while loop"
   ]
  },
  {
   "cell_type": "code",
   "execution_count": 17,
   "id": "0dbb3f53-70f0-4122-84f8-a14975e31ab0",
   "metadata": {},
   "outputs": [
    {
     "name": "stdout",
     "output_type": "stream",
     "text": [
      "[2, 4, 5, 6, 8, 10, 12, 14, 15, 16, 18, 20, 22, 24, 25, 26, 28, 30, 32, 34, 35, 36, 38, 40, 42, 44, 45, 46, 48, 50, 52, 54, 55, 56, 58, 60, 62, 64, 65, 66, 68, 70, 72, 74, 75, 76, 78, 80, 82, 84, 85, 86, 88, 90, 92, 94, 95, 96, 98, 100]\n"
     ]
    }
   ],
   "source": [
    "result=[]\n",
    "i=1\n",
    "while i<=100:\n",
    "    cube =i**3\n",
    "    if cube %4==0 or cube %5==0:\n",
    "        result.append(i)\n",
    "    i=i+1\n",
    "print(result)"
   ]
  },
  {
   "cell_type": "code",
   "execution_count": null,
   "id": "0cd1d2ce-fa00-4c21-86e1-b870be4da6f0",
   "metadata": {},
   "outputs": [],
   "source": []
  },
  {
   "cell_type": "markdown",
   "id": "4c55bf5d-4fc3-445e-817d-31d1a808508f",
   "metadata": {},
   "source": [
    "Answer-5"
   ]
  },
  {
   "cell_type": "code",
   "execution_count": 18,
   "id": "3ff0a11f-8c81-4c64-8527-cd1ffc68d2ab",
   "metadata": {},
   "outputs": [],
   "source": [
    "s= \"I want to become a data scientist\""
   ]
  },
  {
   "cell_type": "code",
   "execution_count": 19,
   "id": "460eae32-3c66-4039-aa20-f686e1770b28",
   "metadata": {},
   "outputs": [
    {
     "data": {
      "text/plain": [
       "'i want to become a data scientist'"
      ]
     },
     "execution_count": 19,
     "metadata": {},
     "output_type": "execute_result"
    }
   ],
   "source": [
    "s.lower()"
   ]
  },
  {
   "cell_type": "code",
   "execution_count": 20,
   "id": "0980b2c0-2042-4be2-b5e5-a4cad7cca99b",
   "metadata": {},
   "outputs": [
    {
     "name": "stdout",
     "output_type": "stream",
     "text": [
      "12\n"
     ]
    }
   ],
   "source": [
    "vowels =['a','e','i','o','u']\n",
    "count =0\n",
    "\n",
    "for v in s.lower():\n",
    "    if v in vowels:\n",
    "        count =count+1\n",
    "print(count)"
   ]
  }
 ],
 "metadata": {
  "kernelspec": {
   "display_name": "Python 3 (ipykernel)",
   "language": "python",
   "name": "python3"
  },
  "language_info": {
   "codemirror_mode": {
    "name": "ipython",
    "version": 3
   },
   "file_extension": ".py",
   "mimetype": "text/x-python",
   "name": "python",
   "nbconvert_exporter": "python",
   "pygments_lexer": "ipython3",
   "version": "3.10.8"
  }
 },
 "nbformat": 4,
 "nbformat_minor": 5
}

{
 "cells": [
  {
   "cell_type": "markdown",
   "id": "0e2230cb-4465-4a67-a825-cb1d18178c38",
   "metadata": {},
   "source": [
    "Answer 1"
   ]
  },
  {
   "cell_type": "code",
   "execution_count": 1,
   "id": "28996fc5-384d-410f-a478-004aabc02a76",
   "metadata": {},
   "outputs": [],
   "source": [
    "#(1) string\n",
    "s= \"jatin\""
   ]
  },
  {
   "cell_type": "code",
   "execution_count": 2,
   "id": "2eddec01-9504-414e-8d9b-ef4284c0b27b",
   "metadata": {},
   "outputs": [
    {
     "data": {
      "text/plain": [
       "('jatin', str)"
      ]
     },
     "execution_count": 2,
     "metadata": {},
     "output_type": "execute_result"
    }
   ],
   "source": [
    "s , type(s)"
   ]
  },
  {
   "cell_type": "code",
   "execution_count": 3,
   "id": "c9c78160-a4e0-4222-8ca1-aff4998ea990",
   "metadata": {},
   "outputs": [],
   "source": [
    "#(2) list\n",
    "l = [1,2,3,4, \"jat\"]"
   ]
  },
  {
   "cell_type": "code",
   "execution_count": 4,
   "id": "9133cb98-3df3-43d3-8bcc-6ee9d1f04c92",
   "metadata": {},
   "outputs": [
    {
     "data": {
      "text/plain": [
       "([1, 2, 3, 4, 'jat'], list)"
      ]
     },
     "execution_count": 4,
     "metadata": {},
     "output_type": "execute_result"
    }
   ],
   "source": [
    "l, type(l)"
   ]
  },
  {
   "cell_type": "code",
   "execution_count": 5,
   "id": "f10980f2-0e51-40df-8725-c34a0bd9ec28",
   "metadata": {},
   "outputs": [],
   "source": [
    "#(3) float\n",
    "f= 45.4"
   ]
  },
  {
   "cell_type": "code",
   "execution_count": 6,
   "id": "203452ee-9d3d-4579-ae1c-32912e74eeda",
   "metadata": {},
   "outputs": [
    {
     "data": {
      "text/plain": [
       "(45.4, float)"
      ]
     },
     "execution_count": 6,
     "metadata": {},
     "output_type": "execute_result"
    }
   ],
   "source": [
    "f, type(f)"
   ]
  },
  {
   "cell_type": "code",
   "execution_count": 7,
   "id": "741f1af1-5620-43d8-b60d-eaa7c7a29b65",
   "metadata": {},
   "outputs": [],
   "source": [
    "#(4) tuple\n",
    "t= (1,2,3,4)"
   ]
  },
  {
   "cell_type": "code",
   "execution_count": 8,
   "id": "68c35968-5c87-4bf7-ad27-d6d2c6eea369",
   "metadata": {},
   "outputs": [
    {
     "data": {
      "text/plain": [
       "((1, 2, 3, 4), tuple)"
      ]
     },
     "execution_count": 8,
     "metadata": {},
     "output_type": "execute_result"
    }
   ],
   "source": [
    "t, type(t)"
   ]
  },
  {
   "cell_type": "raw",
   "id": "d8bb2894-e0eb-4ecb-b035-7a4111f9bea4",
   "metadata": {},
   "source": []
  },
  {
   "cell_type": "markdown",
   "id": "53029e28-93f0-4a0c-a7e4-277750c38b5f",
   "metadata": {},
   "source": [
    "Answer 2"
   ]
  },
  {
   "cell_type": "code",
   "execution_count": 9,
   "id": "059871be-0134-400e-a78d-c9d97ff6cf76",
   "metadata": {},
   "outputs": [],
   "source": [
    "var1 = ''"
   ]
  },
  {
   "cell_type": "code",
   "execution_count": 10,
   "id": "2cf723a1-d1dc-4f8a-a189-5ceea72215a1",
   "metadata": {},
   "outputs": [
    {
     "data": {
      "text/plain": [
       "str"
      ]
     },
     "execution_count": 10,
     "metadata": {},
     "output_type": "execute_result"
    }
   ],
   "source": [
    "type(var1)"
   ]
  },
  {
   "cell_type": "code",
   "execution_count": 11,
   "id": "3d34f088-7fb8-4b33-ada9-e7dd327d4f80",
   "metadata": {},
   "outputs": [],
   "source": [
    "var2 = '[ DS , ML , Python]'"
   ]
  },
  {
   "cell_type": "code",
   "execution_count": 12,
   "id": "90704cfa-5554-4a4b-bb9f-d2bf88a7495d",
   "metadata": {},
   "outputs": [
    {
     "data": {
      "text/plain": [
       "str"
      ]
     },
     "execution_count": 12,
     "metadata": {},
     "output_type": "execute_result"
    }
   ],
   "source": [
    "type(var2)"
   ]
  },
  {
   "cell_type": "code",
   "execution_count": 13,
   "id": "9c35a253-24f0-474d-b0a6-450ef326f251",
   "metadata": {},
   "outputs": [],
   "source": [
    "var3 = [ 'DS' , 'ML' , 'Python' ]"
   ]
  },
  {
   "cell_type": "code",
   "execution_count": 14,
   "id": "0c63d1c6-961e-4882-a59d-e5025b104853",
   "metadata": {},
   "outputs": [
    {
     "data": {
      "text/plain": [
       "list"
      ]
     },
     "execution_count": 14,
     "metadata": {},
     "output_type": "execute_result"
    }
   ],
   "source": [
    "type(var3)"
   ]
  },
  {
   "cell_type": "code",
   "execution_count": 15,
   "id": "670de29c-b1d6-4728-8101-7bc4d793ecd9",
   "metadata": {},
   "outputs": [],
   "source": [
    "var4 = 1."
   ]
  },
  {
   "cell_type": "code",
   "execution_count": 16,
   "id": "59c9c42f-1d62-438d-a7f7-e320898806de",
   "metadata": {},
   "outputs": [
    {
     "data": {
      "text/plain": [
       "float"
      ]
     },
     "execution_count": 16,
     "metadata": {},
     "output_type": "execute_result"
    }
   ],
   "source": [
    "type(var4)"
   ]
  },
  {
   "cell_type": "code",
   "execution_count": null,
   "id": "a13c8e82-95b1-47c3-b0b4-c681a2476d3c",
   "metadata": {},
   "outputs": [],
   "source": []
  },
  {
   "cell_type": "markdown",
   "id": "1553d5be-26ed-45a3-8c42-1c67ccb74896",
   "metadata": {},
   "source": [
    "Answer 3"
   ]
  },
  {
   "cell_type": "markdown",
   "id": "ca0169cc-fdd8-4a4f-b2ce-ed9eaab4b8a7",
   "metadata": {},
   "source": [
    "1.) Division operator (/)"
   ]
  },
  {
   "cell_type": "markdown",
   "id": "952a2b82-3ebb-4ea5-98b4-e4a7b9b9c5fc",
   "metadata": {},
   "source": [
    "Division operator is used to divide the two numbers and it return the quotient."
   ]
  },
  {
   "cell_type": "code",
   "execution_count": 17,
   "id": "5551c538-ce32-4e58-8b35-693136b7a888",
   "metadata": {},
   "outputs": [
    {
     "data": {
      "text/plain": [
       "15.0"
      ]
     },
     "execution_count": 17,
     "metadata": {},
     "output_type": "execute_result"
    }
   ],
   "source": [
    "75/5"
   ]
  },
  {
   "cell_type": "markdown",
   "id": "ddfa292f-67a6-423c-8f9c-e3098fa1ed27",
   "metadata": {},
   "source": [
    "2.) Modulus operator (%)"
   ]
  },
  {
   "cell_type": "markdown",
   "id": "b576fef7-3b85-40a2-9082-6d724096e5b6",
   "metadata": {},
   "source": [
    "Modulus operator is used to find the reminder after dividing the two numbers"
   ]
  },
  {
   "cell_type": "code",
   "execution_count": 18,
   "id": "3e0eaaac-d62a-4577-8284-84c0b7f2400a",
   "metadata": {},
   "outputs": [
    {
     "data": {
      "text/plain": [
       "1"
      ]
     },
     "execution_count": 18,
     "metadata": {},
     "output_type": "execute_result"
    }
   ],
   "source": [
    "76%5"
   ]
  },
  {
   "cell_type": "markdown",
   "id": "34f90321-61ab-48fe-90a2-33d9f4d4bb98",
   "metadata": {
    "tags": []
   },
   "source": [
    "3.) Floor division (//)"
   ]
  },
  {
   "cell_type": "markdown",
   "id": "601c31f3-ac3a-4143-bd49-f397941acf46",
   "metadata": {},
   "source": [
    "Floor division(also known as integer division) is used to divide the two numbers and it round off the result to the nearest whole number and then return the result. \n",
    "\n",
    "In the division operator the result is 15.0 which is a float and in floor division the result is 15 which is a integer."
   ]
  },
  {
   "cell_type": "code",
   "execution_count": 19,
   "id": "56b78d51-39d1-43fc-9141-1d18eff72360",
   "metadata": {},
   "outputs": [
    {
     "data": {
      "text/plain": [
       "15"
      ]
     },
     "execution_count": 19,
     "metadata": {},
     "output_type": "execute_result"
    }
   ],
   "source": [
    "75//5"
   ]
  },
  {
   "cell_type": "markdown",
   "id": "69ce4392-efb1-4811-8e61-a757aa8ea425",
   "metadata": {},
   "source": [
    "4.) Exponential operator (**)"
   ]
  },
  {
   "cell_type": "markdown",
   "id": "3b31a9a0-e9c0-4b86-a432-ae4bc57f10a6",
   "metadata": {},
   "source": [
    "Exponential operator is used to find the exponential value of number."
   ]
  },
  {
   "cell_type": "code",
   "execution_count": 20,
   "id": "3b05864f-f534-4549-922f-1ffb3143adc7",
   "metadata": {},
   "outputs": [
    {
     "data": {
      "text/plain": [
       "125"
      ]
     },
     "execution_count": 20,
     "metadata": {},
     "output_type": "execute_result"
    }
   ],
   "source": [
    "5**3"
   ]
  },
  {
   "cell_type": "code",
   "execution_count": null,
   "id": "e2f83908-9d4e-46e1-8340-6a3036a90f0c",
   "metadata": {},
   "outputs": [],
   "source": []
  },
  {
   "cell_type": "markdown",
   "id": "78296e67-9160-4b41-ba19-5a94046cbfd5",
   "metadata": {},
   "source": [
    "Answer 4"
   ]
  },
  {
   "cell_type": "code",
   "execution_count": 21,
   "id": "01f345c6-f71a-4599-b8db-eae63fc1c252",
   "metadata": {},
   "outputs": [],
   "source": [
    "l= [\"jatin\", 13, 98.7, \"pwskills\", 6+5j, True, 12]"
   ]
  },
  {
   "cell_type": "code",
   "execution_count": 22,
   "id": "326fd1cd-6f76-43ca-be26-529ec7af3679",
   "metadata": {},
   "outputs": [
    {
     "name": "stdout",
     "output_type": "stream",
     "text": [
      "['jatin', <class 'str'>]\n",
      "[13, <class 'int'>]\n",
      "[98.7, <class 'float'>]\n",
      "['pwskills', <class 'str'>]\n",
      "[(6+5j), <class 'complex'>]\n",
      "[True, <class 'bool'>]\n",
      "[12, <class 'int'>]\n"
     ]
    }
   ],
   "source": [
    "for i in l:\n",
    "    print([i, type(i)])\n",
    "    #I used [ ] to make the result more clear"
   ]
  },
  {
   "cell_type": "code",
   "execution_count": null,
   "id": "c72f9f50-db68-4ff5-8cb1-d2f610bf5c3e",
   "metadata": {},
   "outputs": [],
   "source": []
  },
  {
   "cell_type": "markdown",
   "id": "6151af0d-1c64-451e-a3e9-e6d651983e3a",
   "metadata": {},
   "source": [
    "Answer 5"
   ]
  },
  {
   "cell_type": "code",
   "execution_count": 32,
   "id": "c276703e-3d87-43bd-aef6-fea9828843da",
   "metadata": {},
   "outputs": [
    {
     "name": "stdin",
     "output_type": "stream",
     "text": [
      "Enter your number for A: 100\n",
      "Enter your number for B: 10\n"
     ]
    },
    {
     "name": "stdout",
     "output_type": "stream",
     "text": [
      "2 times\n"
     ]
    }
   ],
   "source": [
    "a = int(input(\"Enter your number for A:\"))\n",
    "b = int(input(\"Enter your number for B:\"))\n",
    "count =0\n",
    "\n",
    "while a%b == 0:\n",
    "    count+=1\n",
    "    a=a//b\n",
    "\n",
    "print(count, \"times\")"
   ]
  },
  {
   "cell_type": "markdown",
   "id": "cc1fc19f-afea-43e0-a40a-887de5e7bb02",
   "metadata": {},
   "source": [
    "Answer 6"
   ]
  },
  {
   "cell_type": "code",
   "execution_count": 24,
   "id": "fc0a0156-9b4d-4fda-ae51-8ee9dc6b63a4",
   "metadata": {},
   "outputs": [],
   "source": [
    "l = list(range(25))"
   ]
  },
  {
   "cell_type": "code",
   "execution_count": 25,
   "id": "a3a6b474-b4e8-4508-b0e3-83b02f83f59d",
   "metadata": {},
   "outputs": [
    {
     "name": "stdout",
     "output_type": "stream",
     "text": [
      "0  is divisible by 3\n",
      "1  is not divisible by 3\n",
      "2  is not divisible by 3\n",
      "3  is divisible by 3\n",
      "4  is not divisible by 3\n",
      "5  is not divisible by 3\n",
      "6  is divisible by 3\n",
      "7  is not divisible by 3\n",
      "8  is not divisible by 3\n",
      "9  is divisible by 3\n",
      "10  is not divisible by 3\n",
      "11  is not divisible by 3\n",
      "12  is divisible by 3\n",
      "13  is not divisible by 3\n",
      "14  is not divisible by 3\n",
      "15  is divisible by 3\n",
      "16  is not divisible by 3\n",
      "17  is not divisible by 3\n",
      "18  is divisible by 3\n",
      "19  is not divisible by 3\n",
      "20  is not divisible by 3\n",
      "21  is divisible by 3\n",
      "22  is not divisible by 3\n",
      "23  is not divisible by 3\n",
      "24  is divisible by 3\n"
     ]
    }
   ],
   "source": [
    "for i in l:\n",
    "    if i % 3 ==0:\n",
    "        print( i ,\" is divisible by 3\")\n",
    "    else:\n",
    "        print(i ,\" is not divisible by 3\")"
   ]
  },
  {
   "cell_type": "code",
   "execution_count": null,
   "id": "889af6d2-2e92-46ad-bf30-44a628eec07c",
   "metadata": {},
   "outputs": [],
   "source": []
  },
  {
   "cell_type": "markdown",
   "id": "899b4601-4570-4180-8030-5d63770b0fb4",
   "metadata": {},
   "source": [
    "Answer 7"
   ]
  },
  {
   "cell_type": "markdown",
   "id": "160673aa-0330-49c2-84fb-e8f58a8e7e81",
   "metadata": {},
   "source": [
    "Mutable and immutable data types:\n",
    "\n",
    "Mutable data type are those data types whose value can be modified as per requirement after they are created. \n",
    "and Immutable data type are those, whose value cannot be changed once it is created. in order to change the value we have to create a new variable or update the whole variable's value.\n",
    "\n",
    "\n",
    "Broadly, Mutablity and immutablity basically means that whether we are able to modify/change the data value of one particular index of variable; if yes then it is mutable and no then immutable.\n",
    "Lets take examples of these data types:\n",
    "\n",
    "1.) Mutable data type"
   ]
  },
  {
   "cell_type": "code",
   "execution_count": 26,
   "id": "ad02fa7a-1a18-475a-8aee-6a27063959c1",
   "metadata": {},
   "outputs": [],
   "source": [
    "l3 = [1,2,34,4,56, \"jatin\", \"kum\", True]"
   ]
  },
  {
   "cell_type": "code",
   "execution_count": 27,
   "id": "a3a5c32c-49c7-43c0-ac00-e9e337a59d8f",
   "metadata": {},
   "outputs": [],
   "source": [
    "l3[2]=3"
   ]
  },
  {
   "cell_type": "code",
   "execution_count": 28,
   "id": "498070ac-9872-427b-9e9f-e12d37662057",
   "metadata": {},
   "outputs": [
    {
     "data": {
      "text/plain": [
       "[1, 2, 3, 4, 56, 'jatin', 'kum', True]"
      ]
     },
     "execution_count": 28,
     "metadata": {},
     "output_type": "execute_result"
    }
   ],
   "source": [
    "l3"
   ]
  },
  {
   "cell_type": "markdown",
   "id": "245bd4ee-ad8b-4141-b535-baacc820fe56",
   "metadata": {},
   "source": [
    "So, list is mutable object. and in this respect set, dic are also mutable object."
   ]
  },
  {
   "cell_type": "markdown",
   "id": "4ef2ee09-e40c-46e1-8009-52120aa40644",
   "metadata": {},
   "source": [
    "2.)Immutable data type"
   ]
  },
  {
   "cell_type": "code",
   "execution_count": 29,
   "id": "48bc3eff-b815-49d0-a42c-5d0a1f5419dd",
   "metadata": {},
   "outputs": [],
   "source": [
    "u= \"bowl\""
   ]
  },
  {
   "cell_type": "code",
   "execution_count": 30,
   "id": "f1684002-a3c5-4095-9396-e9536bfe27ff",
   "metadata": {},
   "outputs": [
    {
     "data": {
      "text/plain": [
       "'bowl'"
      ]
     },
     "execution_count": 30,
     "metadata": {},
     "output_type": "execute_result"
    }
   ],
   "source": [
    "u"
   ]
  },
  {
   "cell_type": "code",
   "execution_count": 31,
   "id": "9f158061-33ac-4fa4-8ce1-a8e1300bed52",
   "metadata": {},
   "outputs": [
    {
     "ename": "TypeError",
     "evalue": "'str' object does not support item assignment",
     "output_type": "error",
     "traceback": [
      "\u001b[0;31m---------------------------------------------------------------------------\u001b[0m",
      "\u001b[0;31mTypeError\u001b[0m                                 Traceback (most recent call last)",
      "Cell \u001b[0;32mIn[31], line 1\u001b[0m\n\u001b[0;32m----> 1\u001b[0m \u001b[43mu\u001b[49m\u001b[43m[\u001b[49m\u001b[38;5;241;43m2\u001b[39;49m\u001b[43m]\u001b[49m\u001b[38;5;241m=\u001b[39m\u001b[38;5;124m\"\u001b[39m\u001b[38;5;124ml\u001b[39m\u001b[38;5;124m\"\u001b[39m\n",
      "\u001b[0;31mTypeError\u001b[0m: 'str' object does not support item assignment"
     ]
    }
   ],
   "source": [
    "u[2]=\"l\""
   ]
  },
  {
   "cell_type": "markdown",
   "id": "e47141db-edd8-4edb-b702-dc474980eaf2",
   "metadata": {},
   "source": [
    "So, string is immutable object. and int, float, bool, tuple are also immutable object."
   ]
  },
  {
   "cell_type": "code",
   "execution_count": null,
   "id": "fb56a8ba-2747-4541-9560-beb8245229f8",
   "metadata": {},
   "outputs": [],
   "source": []
  }
 ],
 "metadata": {
  "kernelspec": {
   "display_name": "Python 3 (ipykernel)",
   "language": "python",
   "name": "python3"
  },
  "language_info": {
   "codemirror_mode": {
    "name": "ipython",
    "version": 3
   },
   "file_extension": ".py",
   "mimetype": "text/x-python",
   "name": "python",
   "nbconvert_exporter": "python",
   "pygments_lexer": "ipython3",
   "version": "3.10.8"
  }
 },
 "nbformat": 4,
 "nbformat_minor": 5
}

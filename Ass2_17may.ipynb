{
 "cells": [
  {
   "cell_type": "markdown",
   "id": "6e317624-dcd2-420b-a67a-aa6b7a369c47",
   "metadata": {},
   "source": [
    "Answer 1"
   ]
  },
  {
   "cell_type": "markdown",
   "id": "375d3763-0608-4d65-a527-ec6ad5040ef1",
   "metadata": {},
   "source": [
    "In Python, we can add comments to the code to provide explanations or add notes that are not executed as part of the program. Comments are useful for improving code readability and making it easier for others (or yourself) to understand the code's purpose. Python supports two types of comments: single-line comments and multi-line comments."
   ]
  },
  {
   "cell_type": "markdown",
   "id": "6b96eaa9-1e8f-4095-8114-6c815ce47d64",
   "metadata": {},
   "source": [
    "Single-line comments start with the hash character (#) and continue until the end of the line. Anything after the hash symbol is ignored by the Python interpreter. For example:"
   ]
  },
  {
   "cell_type": "code",
   "execution_count": 1,
   "id": "ef117012-43ac-432f-90ee-9bc45bc71c65",
   "metadata": {},
   "outputs": [
    {
     "name": "stdout",
     "output_type": "stream",
     "text": [
      "Hello world\n"
     ]
    }
   ],
   "source": [
    "#this single-line comment in python\n",
    "print(\"Hello world\")"
   ]
  },
  {
   "cell_type": "markdown",
   "id": "1988697b-570c-4659-8357-0ac2c241aa81",
   "metadata": {},
   "source": [
    "Multi-line comments, also known as docstrings, are used for longer comments or documentation. They are enclosed between triple quotes (''' or \"\"\") and can span multiple lines. Although not specifically comments, they can be used as such and are commonly used to provide detailed explanations or document functions, modules, or classes. For example:"
   ]
  },
  {
   "cell_type": "code",
   "execution_count": 2,
   "id": "86ce6db4-91dd-4150-a5f9-1d63d8f3661a",
   "metadata": {},
   "outputs": [
    {
     "data": {
      "text/plain": [
       "'\\nThis is a multi-line comment or docstring.\\nIt can span multiple lines and is commonly used\\nto provide documentation for functions, modules,\\nor classes in Python.\\n'"
      ]
     },
     "execution_count": 2,
     "metadata": {},
     "output_type": "execute_result"
    }
   ],
   "source": [
    "'''\n",
    "This is a multi-line comment or docstring.\n",
    "It can span multiple lines and is commonly used\n",
    "to provide documentation for functions, modules,\n",
    "or classes in Python.\n",
    "'''\n"
   ]
  },
  {
   "cell_type": "code",
   "execution_count": null,
   "id": "6620f761-8c4d-485e-a533-e80880883d4a",
   "metadata": {},
   "outputs": [],
   "source": []
  },
  {
   "cell_type": "markdown",
   "id": "f0f5b680-0db8-41cc-b917-0561f3052c3b",
   "metadata": {},
   "source": [
    "Answer 2"
   ]
  },
  {
   "cell_type": "markdown",
   "id": "dd742197-7f68-4c6b-9a53-b4c25821c0ad",
   "metadata": {},
   "source": [
    "In Python, variables are used to store data or values. A variable is like a container that holds a value, and it allows to refer to that value using the variable name. for declaration of the variable's value, simply assign a value to a variable, and Python automatically infers the type based on the assigned value. For example:"
   ]
  },
  {
   "cell_type": "code",
   "execution_count": 3,
   "id": "753f3d1d-2a81-498f-961c-8ddc031e6162",
   "metadata": {},
   "outputs": [],
   "source": [
    "test= 56"
   ]
  },
  {
   "cell_type": "markdown",
   "id": "2201ed71-574a-4b6b-8200-24d28c9455ae",
   "metadata": {},
   "source": [
    "now python assigned the 56 value to the test variable. when we call test it will show 56"
   ]
  },
  {
   "cell_type": "code",
   "execution_count": 4,
   "id": "9aabca69-567c-46fe-bd06-647e0a4f42d1",
   "metadata": {},
   "outputs": [
    {
     "data": {
      "text/plain": [
       "56"
      ]
     },
     "execution_count": 4,
     "metadata": {},
     "output_type": "execute_result"
    }
   ],
   "source": [
    "test"
   ]
  },
  {
   "cell_type": "code",
   "execution_count": null,
   "id": "d74a8ed4-bb41-4bf6-a710-7ed3967fb598",
   "metadata": {},
   "outputs": [],
   "source": []
  },
  {
   "cell_type": "markdown",
   "id": "faf32739-64be-45d8-905e-4f557e135166",
   "metadata": {},
   "source": [
    "Answer 3"
   ]
  },
  {
   "cell_type": "markdown",
   "id": "5a5f776c-b455-479d-adff-24dcedee3815",
   "metadata": {},
   "source": [
    "converting one data type to another data type is used to make the data reusable for other function also.\n",
    "For example, input function only take inputs in string and if we want input from user in integer, or any other data type then this conversion will be helpful.\n",
    "\n",
    "converting data from one type to another is simple just add int(\"other data type variable\") for integer and for other data types use them as reference with integer."
   ]
  },
  {
   "cell_type": "code",
   "execution_count": 5,
   "id": "48080a78-fad7-471c-b535-0e6152d82a3d",
   "metadata": {},
   "outputs": [],
   "source": [
    "s =\"55\""
   ]
  },
  {
   "cell_type": "code",
   "execution_count": 6,
   "id": "24325617-94ff-4a49-a1af-4f3e93948d7f",
   "metadata": {},
   "outputs": [
    {
     "data": {
      "text/plain": [
       "str"
      ]
     },
     "execution_count": 6,
     "metadata": {},
     "output_type": "execute_result"
    }
   ],
   "source": [
    "type(s)"
   ]
  },
  {
   "cell_type": "markdown",
   "id": "737ab230-a0e0-4115-b518-87e4258b508b",
   "metadata": {},
   "source": [
    "here s data type is string and if we need to convert it into integer then we have to just use int()"
   ]
  },
  {
   "cell_type": "code",
   "execution_count": 7,
   "id": "166bedfb-b1b0-4857-aa19-e0ffdaf4cdd7",
   "metadata": {},
   "outputs": [
    {
     "data": {
      "text/plain": [
       "55"
      ]
     },
     "execution_count": 7,
     "metadata": {},
     "output_type": "execute_result"
    }
   ],
   "source": [
    "int(s)"
   ]
  },
  {
   "cell_type": "code",
   "execution_count": 8,
   "id": "e01ccbc0-ef4f-4db9-bee7-9305c3a59c2b",
   "metadata": {},
   "outputs": [],
   "source": [
    "s1 = int(s)"
   ]
  },
  {
   "cell_type": "code",
   "execution_count": 9,
   "id": "780a1b18-4a0c-426b-b31a-02fa44da3582",
   "metadata": {},
   "outputs": [
    {
     "data": {
      "text/plain": [
       "int"
      ]
     },
     "execution_count": 9,
     "metadata": {},
     "output_type": "execute_result"
    }
   ],
   "source": [
    "type(s1)"
   ]
  },
  {
   "cell_type": "code",
   "execution_count": null,
   "id": "658146ea-2505-403b-bbed-a1e90f368764",
   "metadata": {},
   "outputs": [],
   "source": []
  },
  {
   "cell_type": "markdown",
   "id": "3405f20d-10af-4899-96b2-f944b10461bb",
   "metadata": {},
   "source": [
    "Answer 4"
   ]
  },
  {
   "cell_type": "markdown",
   "id": "5a39bbcc-fce4-4a9a-82b5-2fe57935b866",
   "metadata": {},
   "source": [
    "1. Open a new text editor file.\n",
    "2. Write the Python code in the text editor and save the file with a .py extension. For example, we can save it as my_python.py.\n",
    "3. Open the command prompt from start menu.\n",
    "4. Navigate to the directory where we saved your Python script using the cd command. For example, if the script is saved in the Documents folder, we can use cd Documents to navigate to that folder.\n",
    "5. Once we are in the correct directory, we can run the Python script by typing python my_python.py and pressing Enter. \n",
    "6. The Python interpreter will execute the script, and we will see the output or any error messages in the command prompt or terminal."
   ]
  },
  {
   "cell_type": "code",
   "execution_count": null,
   "id": "551e8321-6849-4681-b82a-4b420fb27dc2",
   "metadata": {},
   "outputs": [],
   "source": []
  },
  {
   "cell_type": "markdown",
   "id": "a3fdd970-82e3-4e7c-a30d-59875afd11e4",
   "metadata": {},
   "source": [
    "Answer 5"
   ]
  },
  {
   "cell_type": "code",
   "execution_count": 10,
   "id": "13b99855-8455-4918-9f4b-7c5be470b872",
   "metadata": {},
   "outputs": [],
   "source": [
    "my_list= [1,2,3,4,5]"
   ]
  },
  {
   "cell_type": "code",
   "execution_count": 11,
   "id": "12478863-d295-4049-93d6-62cf66e29cb2",
   "metadata": {},
   "outputs": [
    {
     "data": {
      "text/plain": [
       "[1, 2, 3, 4, 5]"
      ]
     },
     "execution_count": 11,
     "metadata": {},
     "output_type": "execute_result"
    }
   ],
   "source": [
    "my_list"
   ]
  },
  {
   "cell_type": "code",
   "execution_count": 12,
   "id": "bf132c75-75b8-4daf-be85-69779bdfb513",
   "metadata": {},
   "outputs": [],
   "source": [
    "#to obtain the sub-list [2,3] we need to execute this code"
   ]
  },
  {
   "cell_type": "code",
   "execution_count": 13,
   "id": "1a20371b-0c97-4c27-8609-879d20cb2695",
   "metadata": {},
   "outputs": [
    {
     "data": {
      "text/plain": [
       "[2, 3]"
      ]
     },
     "execution_count": 13,
     "metadata": {},
     "output_type": "execute_result"
    }
   ],
   "source": [
    "my_list[1:3]\n",
    "#using forward direction slicing"
   ]
  },
  {
   "cell_type": "code",
   "execution_count": null,
   "id": "26386674-d8e4-4906-8da4-8e11f9d8193e",
   "metadata": {},
   "outputs": [],
   "source": []
  },
  {
   "cell_type": "markdown",
   "id": "d8a0b531-edcc-44c0-946d-5cf47b9d9191",
   "metadata": {},
   "source": [
    "Answer 6"
   ]
  },
  {
   "cell_type": "markdown",
   "id": "99a5d44d-aedb-45a5-be1d-bb77ff97cfcf",
   "metadata": {},
   "source": [
    "In mathematics, complex number are those number which are expressed in the form of a+bi, in which a,b are real number and i is imaginary number which is generally called as \"iota\". iota(i) contains the value of (-√-1). \n",
    "for example, 5+6i, in this 5 is real part and 6i is imaginary part.\n",
    "\n",
    "in python, complex number's uses and presentation are almost similar but python only consider iota which is \"i\" as \"j\".\n",
    "so, here in python the same complex number will be represented as:"
   ]
  },
  {
   "cell_type": "code",
   "execution_count": 14,
   "id": "c65237fd-183c-403b-9a2a-fb1ba3773c72",
   "metadata": {},
   "outputs": [],
   "source": [
    "c =5+6j"
   ]
  },
  {
   "cell_type": "code",
   "execution_count": 15,
   "id": "480a9792-f903-4619-a82d-6744d5688b9b",
   "metadata": {},
   "outputs": [
    {
     "data": {
      "text/plain": [
       "(5+6j)"
      ]
     },
     "execution_count": 15,
     "metadata": {},
     "output_type": "execute_result"
    }
   ],
   "source": [
    "c"
   ]
  },
  {
   "cell_type": "code",
   "execution_count": 16,
   "id": "7aefcbaf-e71f-47bc-8abc-3e202c22ca62",
   "metadata": {},
   "outputs": [
    {
     "data": {
      "text/plain": [
       "complex"
      ]
     },
     "execution_count": 16,
     "metadata": {},
     "output_type": "execute_result"
    }
   ],
   "source": [
    "type(c)"
   ]
  },
  {
   "cell_type": "code",
   "execution_count": null,
   "id": "4e1b4347-a165-4d0c-b16a-b549b502abad",
   "metadata": {},
   "outputs": [],
   "source": []
  },
  {
   "cell_type": "markdown",
   "id": "21442221-8118-4dbf-bca3-dbc1665e2e8a",
   "metadata": {},
   "source": [
    "Answer 7"
   ]
  },
  {
   "cell_type": "code",
   "execution_count": 17,
   "id": "e89512f2-7467-4352-a179-98a66eba3963",
   "metadata": {},
   "outputs": [],
   "source": [
    "age = 25"
   ]
  },
  {
   "cell_type": "code",
   "execution_count": 18,
   "id": "5aa02d98-3b0e-410f-9508-b8e9cf858a1b",
   "metadata": {},
   "outputs": [
    {
     "data": {
      "text/plain": [
       "25"
      ]
     },
     "execution_count": 18,
     "metadata": {},
     "output_type": "execute_result"
    }
   ],
   "source": [
    "age"
   ]
  },
  {
   "cell_type": "markdown",
   "id": "11ba841c-1b3d-4d34-8aa3-3de37bbb9b43",
   "metadata": {},
   "source": [
    "declaring variable properly and assigning it's value correctly is important \n",
    "otherwise it's implication will be zero and we can't get the desired result that we want \n",
    "and it will show errors again and again\n",
    "\n",
    "so. in this case we have to declare the variable named \"age\" \n",
    "and first thing that we need to consider that is, will store some data in it and this data will remain as it is(until we modify it) and it is callable as per our requirements\n",
    "so declare the variable uniquely otherwise python automatically update the new assigned value to that variable\n",
    "\n",
    "secondly, here we have age as variable then its value obvoiusly the integer so we will enter the integer value only."
   ]
  },
  {
   "cell_type": "code",
   "execution_count": null,
   "id": "69e75549-7946-4cc5-bda1-72aa36a1ff85",
   "metadata": {},
   "outputs": [],
   "source": []
  },
  {
   "cell_type": "markdown",
   "id": "35b03519-9ee1-4515-8767-8c837b0602c4",
   "metadata": {},
   "source": [
    "Answer 8"
   ]
  },
  {
   "cell_type": "code",
   "execution_count": 19,
   "id": "bf6a11ca-d484-4f4a-b68a-33afc796dcb0",
   "metadata": {},
   "outputs": [],
   "source": [
    "price = 9.99"
   ]
  },
  {
   "cell_type": "code",
   "execution_count": 20,
   "id": "6a217d56-e18b-4973-863e-8b39f1195501",
   "metadata": {},
   "outputs": [
    {
     "data": {
      "text/plain": [
       "9.99"
      ]
     },
     "execution_count": 20,
     "metadata": {},
     "output_type": "execute_result"
    }
   ],
   "source": [
    "price"
   ]
  },
  {
   "cell_type": "code",
   "execution_count": 21,
   "id": "2172f331-65c9-4586-92a6-6749873eca3b",
   "metadata": {},
   "outputs": [
    {
     "data": {
      "text/plain": [
       "float"
      ]
     },
     "execution_count": 21,
     "metadata": {},
     "output_type": "execute_result"
    }
   ],
   "source": [
    "type(price)"
   ]
  },
  {
   "cell_type": "code",
   "execution_count": null,
   "id": "f714dda5-f10d-42e1-b03f-9c62b470d53e",
   "metadata": {},
   "outputs": [],
   "source": []
  },
  {
   "cell_type": "markdown",
   "id": "daa00c3f-3fc0-4aef-92bf-49b36595d2c4",
   "metadata": {},
   "source": [
    "Answer 9"
   ]
  },
  {
   "cell_type": "code",
   "execution_count": 22,
   "id": "07ccea45-ac31-4c69-8f09-716c3a535000",
   "metadata": {},
   "outputs": [],
   "source": [
    "name = \"Jatin Kumar\""
   ]
  },
  {
   "cell_type": "code",
   "execution_count": 23,
   "id": "699a4143-a90b-4d84-bcf9-fe97c189503a",
   "metadata": {},
   "outputs": [
    {
     "data": {
      "text/plain": [
       "'Jatin Kumar'"
      ]
     },
     "execution_count": 23,
     "metadata": {},
     "output_type": "execute_result"
    }
   ],
   "source": [
    "#for print the variable's value we have 2 option\n",
    "#first is to just call the variable like this\n",
    "name"
   ]
  },
  {
   "cell_type": "code",
   "execution_count": 24,
   "id": "73504b7d-d3a9-4333-83aa-df9e302fb1cb",
   "metadata": {},
   "outputs": [
    {
     "name": "stdout",
     "output_type": "stream",
     "text": [
      "Jatin Kumar\n"
     ]
    }
   ],
   "source": [
    "#or we can also use print to get the varaible's value as an output\n",
    "print(name)"
   ]
  },
  {
   "cell_type": "code",
   "execution_count": 25,
   "id": "870c4740-ab9b-4cb4-a0ab-f1777050ca91",
   "metadata": {},
   "outputs": [],
   "source": [
    "#in both cases the variable's value type will be string(or the any other assigned value's type)"
   ]
  },
  {
   "cell_type": "code",
   "execution_count": null,
   "id": "3fc82105-cd7b-4b03-afdd-bd2f5d04141b",
   "metadata": {},
   "outputs": [],
   "source": []
  },
  {
   "cell_type": "markdown",
   "id": "dea11cf4-870f-4996-88e1-421be16f7d8e",
   "metadata": {},
   "source": [
    "Answer 10"
   ]
  },
  {
   "cell_type": "code",
   "execution_count": 26,
   "id": "acd1cafe-762c-4799-a36b-e8eeb8b6addd",
   "metadata": {},
   "outputs": [],
   "source": [
    "s = \"Hello, World!\""
   ]
  },
  {
   "cell_type": "code",
   "execution_count": 27,
   "id": "68587313-84ad-4363-a389-8e0e552ab11e",
   "metadata": {},
   "outputs": [
    {
     "data": {
      "text/plain": [
       "'Hello, World!'"
      ]
     },
     "execution_count": 27,
     "metadata": {},
     "output_type": "execute_result"
    }
   ],
   "source": [
    "s"
   ]
  },
  {
   "cell_type": "code",
   "execution_count": 28,
   "id": "0924ea02-09e7-4a82-8286-0ef6319f5490",
   "metadata": {},
   "outputs": [
    {
     "data": {
      "text/plain": [
       "'World'"
      ]
     },
     "execution_count": 28,
     "metadata": {},
     "output_type": "execute_result"
    }
   ],
   "source": [
    "s[7:12]\n",
    "#using forward direction slicing"
   ]
  },
  {
   "cell_type": "code",
   "execution_count": null,
   "id": "e05378ad-019b-4b92-879d-ca60ad76ba84",
   "metadata": {},
   "outputs": [],
   "source": []
  },
  {
   "cell_type": "markdown",
   "id": "7fc1d149-2146-4382-86ab-85473ff95ac9",
   "metadata": {},
   "source": [
    "Answer 11"
   ]
  },
  {
   "cell_type": "code",
   "execution_count": 29,
   "id": "d201fac1-b7cf-4894-8d36-5830f64aeb79",
   "metadata": {},
   "outputs": [],
   "source": [
    "is_student = True"
   ]
  },
  {
   "cell_type": "code",
   "execution_count": 30,
   "id": "fcf4b185-6340-442e-84df-ef6acb8913aa",
   "metadata": {},
   "outputs": [
    {
     "data": {
      "text/plain": [
       "True"
      ]
     },
     "execution_count": 30,
     "metadata": {},
     "output_type": "execute_result"
    }
   ],
   "source": [
    "is_student"
   ]
  }
 ],
 "metadata": {
  "kernelspec": {
   "display_name": "Python 3 (ipykernel)",
   "language": "python",
   "name": "python3"
  },
  "language_info": {
   "codemirror_mode": {
    "name": "ipython",
    "version": 3
   },
   "file_extension": ".py",
   "mimetype": "text/x-python",
   "name": "python",
   "nbconvert_exporter": "python",
   "pygments_lexer": "ipython3",
   "version": "3.10.8"
  }
 },
 "nbformat": 4,
 "nbformat_minor": 5
}
